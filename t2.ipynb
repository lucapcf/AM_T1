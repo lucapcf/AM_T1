{
  "cells": [
    {
      "cell_type": "markdown",
      "metadata": {
        "id": "deb5b84f-a70a-4452-9b5d-bb340ecf75ce"
      },
      "source": [
        "# Importing Libraries and downloading dataset"
      ],
      "id": "deb5b84f-a70a-4452-9b5d-bb340ecf75ce"
    },
    {
      "cell_type": "code",
      "execution_count": null,
      "metadata": {
        "id": "f193703f-84c7-4b8c-95eb-7fadca2fc0cb"
      },
      "outputs": [],
      "source": [
        "import kagglehub\n",
        "import pandas as pd\n",
        "import matplotlib.pyplot as plt\n",
        "import seaborn as sns\n",
        "import numpy as np\n",
        "import math\n",
        "from sklearn.decomposition import PCA\n",
        "from sklearn.preprocessing import FunctionTransformer, StandardScaler, LabelEncoder, OneHotEncoder\n",
        "from sklearn.model_selection import cross_val_score,train_test_split,cross_validate\n",
        "from sklearn.metrics import accuracy_score,root_mean_squared_error,r2_score,mean_absolute_error,mean_squared_error\n",
        "from sklearn.compose import ColumnTransformer\n",
        "from sklearn.impute import SimpleImputer\n",
        "from sklearn.pipeline import Pipeline\n",
        "from sklearn.linear_model import LinearRegression\n",
        "from sklearn.ensemble import RandomForestRegressor\n",
        "from sklearn.svm import SVR\n",
        "from sklearn.tree import DecisionTreeRegressor\n",
        "from pycountry_convert import country_alpha2_to_continent_code, country_name_to_country_alpha2, convert_continent_code_to_continent_name"
      ],
      "id": "f193703f-84c7-4b8c-95eb-7fadca2fc0cb"
    },
    {
      "cell_type": "code",
      "execution_count": null,
      "metadata": {
        "id": "28f1d664-69b5-4072-87ad-8d8571a158c1"
      },
      "outputs": [],
      "source": [
        "path = kagglehub.dataset_download(\"kumarajarshi/life-expectancy-who\")\n",
        "print(\"Path to dataset files:\", path)\n",
        "data_path = f\"{path}/Life Expectancy Data.csv\"\n",
        "df = pd.read_csv(data_path)\n",
        "df.columns = df.columns.str.strip()\n",
        "\n",
        "%matplotlib inline\n",
        "\n",
        "sns.set_theme(style=\"whitegrid\")"
      ],
      "id": "28f1d664-69b5-4072-87ad-8d8571a158c1"
    },
    {
      "cell_type": "markdown",
      "metadata": {
        "id": "a87e5441-db69-459a-ba6e-ef2423485897"
      },
      "source": [
        "# Preprocessing"
      ],
      "id": "a87e5441-db69-459a-ba6e-ef2423485897"
    },
    {
      "cell_type": "markdown",
      "metadata": {
        "id": "b41d9577"
      },
      "source": [
        "## Renaming and getting cat and num"
      ],
      "id": "b41d9577"
    },
    {
      "cell_type": "code",
      "execution_count": null,
      "metadata": {
        "id": "e8cc19c8"
      },
      "outputs": [],
      "source": [
        "df.columns = df.columns.str.strip()\n",
        "df.rename(columns={'GDP': 'GDP per capita'}, inplace=True)\n",
        "df.columns = df.columns.str.strip()"
      ],
      "id": "e8cc19c8"
    },
    {
      "cell_type": "code",
      "execution_count": null,
      "metadata": {
        "id": "9299b948"
      },
      "outputs": [],
      "source": [
        "num_col=[]\n",
        "cat_col=[]\n",
        "for col in df.columns:\n",
        "    if df[col].dtype=='object':\n",
        "        cat_col.append(col)\n",
        "    else:\n",
        "        num_col.append(col)\n",
        "print(cat_col)\n",
        "print(num_col)\n",
        "print(len(cat_col)+len(num_col))"
      ],
      "id": "9299b948"
    },
    {
      "cell_type": "markdown",
      "metadata": {
        "id": "a941cf4f-e0b3-4346-be65-5a2bd0e96b8b"
      },
      "source": [
        "## Mapeando países para continentes"
      ],
      "id": "a941cf4f-e0b3-4346-be65-5a2bd0e96b8b"
    },
    {
      "cell_type": "code",
      "execution_count": null,
      "metadata": {
        "id": "9367e175-ef0c-43f4-a3e1-90e78744b11c"
      },
      "outputs": [],
      "source": [
        "def map_country2continent(cname:str):\n",
        "  try:\n",
        "    code = country_alpha2_to_continent_code(country_name_to_country_alpha2(cname))\n",
        "    continent = convert_continent_code_to_continent_name(code)\n",
        "    return continent\n",
        "  except Exception as e:\n",
        "    if str(e) == '\"Invalid Country Alpha-2 code: \\'TL\\'\"':\n",
        "        continent = 'Asia'\n",
        "        return continent\n",
        "\n",
        "df['Country'].replace('Republic of Korea', 'South Korea', inplace=True)\n",
        "df['Continent'] = df['Country'].apply(map_country2continent)\n",
        "df.drop(columns=['Country'], inplace=True)\n",
        "\n",
        "df['Continent'].unique()"
      ],
      "id": "9367e175-ef0c-43f4-a3e1-90e78744b11c"
    },
    {
      "cell_type": "markdown",
      "metadata": {
        "id": "855037ab-5683-45d8-8d03-5a73d80b959d"
      },
      "source": [
        "## Separação dos dados"
      ],
      "id": "855037ab-5683-45d8-8d03-5a73d80b959d"
    },
    {
      "cell_type": "code",
      "execution_count": null,
      "metadata": {
        "id": "e7c8f415-0ce2-4123-b6ad-a41b5495eebe"
      },
      "outputs": [],
      "source": [
        "df_train, df_test = train_test_split(df, test_size=0.2, random_state=42)"
      ],
      "id": "e7c8f415-0ce2-4123-b6ad-a41b5495eebe"
    },
    {
      "cell_type": "code",
      "execution_count": null,
      "metadata": {
        "id": "a90076f2-ca5f-455d-996f-8b1262ca33ed"
      },
      "outputs": [],
      "source": [
        "X_train = df_train.drop(columns=['Life expectancy'])\n",
        "y_train = df_train['Life expectancy']\n",
        "X_test = df_test.drop(columns=['Life expectancy'])\n",
        "y_test = df_test['Life expectancy']"
      ],
      "id": "a90076f2-ca5f-455d-996f-8b1262ca33ed"
    },
    {
      "cell_type": "code",
      "execution_count": null,
      "metadata": {
        "id": "51bbdb6f-0d47-4c4e-a444-05ad7994a1d2"
      },
      "outputs": [],
      "source": [
        "num_attribs = df_train[num_col].drop(columns=['Year', 'Life expectancy']).columns\n",
        "cat_attribs = df_train[['Continent', 'Status']].columns"
      ],
      "id": "51bbdb6f-0d47-4c4e-a444-05ad7994a1d2"
    },
    {
      "cell_type": "code",
      "execution_count": null,
      "metadata": {
        "id": "7da52d7c"
      },
      "outputs": [],
      "source": [
        "print(num_attribs)\n",
        "print(cat_attribs)"
      ],
      "id": "7da52d7c"
    },
    {
      "cell_type": "markdown",
      "metadata": {
        "id": "a1ec4588-9c2e-41f5-8a9a-451df7f5cf0b"
      },
      "source": [
        "# Criar preprocessadores"
      ],
      "id": "a1ec4588-9c2e-41f5-8a9a-451df7f5cf0b"
    },
    {
      "cell_type": "code",
      "execution_count": null,
      "metadata": {
        "id": "bae63338-cd38-42eb-9c11-0516f5deca88"
      },
      "outputs": [],
      "source": [
        "num_pipeline = Pipeline([\n",
        "    ('imputer', SimpleImputer(strategy='median')),\n",
        "    ('scaler', StandardScaler())\n",
        "])\n",
        "\n",
        "cat_pipeline = Pipeline([\n",
        "    ('imputer', SimpleImputer(strategy='most_frequent')),\n",
        "    ('onehot_encoder', OneHotEncoder(sparse_output=False))\n",
        "])\n",
        "\n",
        "preprocessor = ColumnTransformer([\n",
        "    ('num', num_pipeline, num_attribs),\n",
        "    ('cat', cat_pipeline, cat_attribs)\n",
        "])"
      ],
      "id": "bae63338-cd38-42eb-9c11-0516f5deca88"
    },
    {
      "cell_type": "code",
      "execution_count": null,
      "metadata": {
        "scrolled": true,
        "id": "2bf31855-72ef-4dfb-9088-5f09a79f2996"
      },
      "outputs": [],
      "source": [
        "# print(\"Numeric attributes:\", num_attribs)\n",
        "# print(\"Categorical attributes:\", cat_attribs)\n",
        "# print(\"Columns in X_train:\", X_train.columns)"
      ],
      "id": "2bf31855-72ef-4dfb-9088-5f09a79f2996"
    },
    {
      "cell_type": "code",
      "execution_count": null,
      "metadata": {
        "id": "99b63f50-2e52-4fbb-80b9-fb3ac565972b"
      },
      "outputs": [],
      "source": [
        "X_train_preprocessed = pd.DataFrame(preprocessor.fit_transform(X_train))\n",
        "X_test_preprocessed = pd.DataFrame(preprocessor.transform(X_test))\n",
        "\n",
        "\n",
        "y_train.fillna(y_train.median(), inplace=True)\n",
        "y_test.fillna(y_test.median(), inplace=True)\n",
        "\n",
        "# df_processed = preprocessor.fit_transform(df)"
      ],
      "id": "99b63f50-2e52-4fbb-80b9-fb3ac565972b"
    },
    {
      "cell_type": "markdown",
      "metadata": {
        "id": "eec2f85c"
      },
      "source": [
        "# PCA"
      ],
      "id": "eec2f85c"
    },
    {
      "cell_type": "code",
      "execution_count": null,
      "metadata": {
        "id": "74c756f5"
      },
      "outputs": [],
      "source": [
        "df_pca = df.copy()\n",
        "numeric_cols = df_pca.select_dtypes(include=['float64', 'int64']).columns\n",
        "df_pca[numeric_cols] = df_pca[numeric_cols].fillna(df[numeric_cols].mean())\n",
        "\n",
        "numeric_cols = df_pca.select_dtypes(include='number').columns\n",
        "numeric_cols = numeric_cols[numeric_cols != 'Life expectancy']\n",
        "df_numeric = df_pca[numeric_cols]\n",
        "\n",
        "scaler = StandardScaler()\n",
        "df_scaled = scaler.fit_transform(df_numeric)\n",
        "\n",
        "pca = PCA()\n",
        "pca.fit(df_scaled)\n",
        "explained_variance = pca.explained_variance_ratio_\n",
        "\n",
        "plt.figure(figsize=(10, 5))\n",
        "plt.plot(range(1, len(explained_variance) + 1), explained_variance * 100, marker='o')\n",
        "plt.xlabel(\"Número de Componentes Principais\")\n",
        "plt.ylabel(\"% da Variância Explicada\")\n",
        "plt.title(\"Análise de Variância Explicada pelo PCA\")\n",
        "\n",
        "df_pca = pca.transform(df_scaled)"
      ],
      "id": "74c756f5"
    },
    {
      "cell_type": "code",
      "execution_count": null,
      "metadata": {
        "id": "fe168e67"
      },
      "outputs": [],
      "source": [
        "loadings = pd.DataFrame(pca.components_.T, columns=[f'PC{i+1}' for i in range(len(pca.components_))], index=numeric_cols)\n",
        "\n",
        "print(\"Tabela de Loadings do PCA com Gradiente de Cores:\")\n",
        "styled_loadings = loadings.style.background_gradient(cmap='coolwarm', axis=None)\n",
        "styled_loadings"
      ],
      "id": "fe168e67"
    },
    {
      "cell_type": "code",
      "execution_count": null,
      "metadata": {
        "id": "8b994536"
      },
      "outputs": [],
      "source": [
        "df.info()"
      ],
      "id": "8b994536"
    },
    {
      "cell_type": "markdown",
      "id": "2e4d46b1-fdc6-4cf8-ac8c-03b2f222dbec",
      "metadata": {
        "id": "2e4d46b1-fdc6-4cf8-ac8c-03b2f222dbec"
      },
      "source": [
        "# Test"
      ]
    },
    {
      "cell_type": "markdown",
      "id": "28961b92",
      "metadata": {
        "jp-MarkdownHeadingCollapsed": true,
        "id": "28961b92"
      },
      "source": [
        "## Optimization and plot functions"
      ]
    },
    {
      "cell_type": "code",
      "execution_count": null,
      "id": "ccacf4f7",
      "metadata": {
        "id": "ccacf4f7"
      },
      "outputs": [],
      "source": [
        "from sklearn.model_selection import GridSearchCV, RandomizedSearchCV, KFold, cross_val_score\n",
        "import numpy as np\n",
        "from sklearn.pipeline import Pipeline\n",
        "from sklearn.metrics import mean_squared_error, r2_score\n",
        "from sklearn.model_selection import StratifiedKFold\n",
        "from scipy.stats import randint\n",
        "import optuna\n",
        "\n",
        "\n",
        "def grid_search_optimization(X_train, y_train, X_test, y_test, preprocessor, model_class):\n",
        "\n",
        "    if model_class.__name__ == \"RandomForestRegressor\":\n",
        "        param_grid = {\n",
        "            'model__n_estimators': [50, 200],\n",
        "            'model__max_depth': [None, 10, 20],\n",
        "            'model__min_samples_split': [2, 5]\n",
        "        }\n",
        "    elif model_class.__name__ == \"DecisionTreeRegressor\":\n",
        "        param_grid = {\n",
        "            'model__max_depth': [None, 10, 20],\n",
        "            'model__min_samples_split': [2, 5]\n",
        "        }\n",
        "    else:\n",
        "        raise ValueError(f\"Unsupported model class: {model_class.__name__}\")\n",
        "\n",
        "    model = model_class(random_state=42)\n",
        "    full_pipeline = Pipeline([\n",
        "        ('preprocessor', preprocessor),\n",
        "        ('model', model)\n",
        "    ])\n",
        "\n",
        "    grid_search = GridSearchCV(full_pipeline, param_grid, cv=5, scoring='neg_root_mean_squared_error', n_jobs=-1)\n",
        "\n",
        "    grid_search.fit(X_train, y_train)\n",
        "\n",
        "    best_model = grid_search.best_estimator_\n",
        "\n",
        "    y_pred = best_model.predict(X_test)\n",
        "    test_rmse = np.sqrt(mean_squared_error(y_test, y_pred))\n",
        "    test_r2 = r2_score(y_test, y_pred)\n",
        "\n",
        "    print(f'GridSearchCV - RMSE on test set: {test_rmse}')\n",
        "    print(f'GridSearchCV - R2 on test set: {test_r2}')\n",
        "\n",
        "    return best_model, grid_search.best_params_, full_pipeline\n",
        "\n",
        "\n",
        "def randomized_search_optimization(X_train, y_train, X_test, y_test, preprocessor, model_class):\n",
        "\n",
        "    if model_class.__name__ == \"RandomForestRegressor\":\n",
        "        param_dist = {\n",
        "            'model__n_estimators': randint(50, 200),\n",
        "            'model__max_depth': [None, 10, 20],\n",
        "            'model__min_samples_split': randint(2, 5)\n",
        "        }\n",
        "    elif model_class.__name__ == \"DecisionTreeRegressor\":\n",
        "        param_dist = {\n",
        "            'model__max_depth': [None, 10, 20],\n",
        "            'model__min_samples_split': randint(2, 5)\n",
        "        }\n",
        "    else:\n",
        "        raise ValueError(f\"Unsupported model class: {model_class.__name__}\")\n",
        "\n",
        "    model = model_class(random_state=42)\n",
        "    full_pipeline = Pipeline([\n",
        "        ('preprocessor', preprocessor),\n",
        "        ('model', model)\n",
        "    ])\n",
        "\n",
        "    random_search = RandomizedSearchCV(full_pipeline, param_distributions=param_dist, n_iter=10, cv=5,\n",
        "                                       scoring='neg_root_mean_squared_error', n_jobs=-1, random_state=42)\n",
        "    random_search.fit(X_train, y_train)\n",
        "\n",
        "    best_model = random_search.best_estimator_\n",
        "\n",
        "    y_pred = best_model.predict(X_test)\n",
        "    test_rmse = np.sqrt(mean_squared_error(y_test, y_pred))\n",
        "    test_r2 = r2_score(y_test, y_pred)\n",
        "\n",
        "    print(f'RandomizedSearchCV - RMSE on test set: {test_rmse}')\n",
        "    print(f'RandomizedSearchCV - R2 on test set: {test_r2}')\n",
        "\n",
        "    return best_model, random_search.best_params_, full_pipeline\n",
        "\n",
        "\n",
        "def optuna_optimization(X_train, y_train, X_test, y_test, preprocessor, model_class):\n",
        "    def objective(trial):\n",
        "        if model_class.__name__ == \"RandomForestRegressor\":\n",
        "            n_estimators = trial.suggest_int('n_estimators', 50, 200)\n",
        "            max_depth = trial.suggest_int('max_depth', 10, 20)\n",
        "            min_samples_split = trial.suggest_int('min_samples_split', 2, 5)\n",
        "            model = model_class(\n",
        "                n_estimators=n_estimators,\n",
        "                max_depth=max_depth,\n",
        "                min_samples_split=min_samples_split,\n",
        "                random_state=42\n",
        "            )\n",
        "        elif model_class.__name__ == \"DecisionTreeRegressor\":\n",
        "            max_depth = trial.suggest_int('max_depth', 10, 20)\n",
        "            min_samples_split = trial.suggest_int('min_samples_split', 2, 5)\n",
        "            model = model_class(\n",
        "                max_depth=max_depth,\n",
        "                min_samples_split=min_samples_split,\n",
        "                random_state=42\n",
        "            )\n",
        "        else:\n",
        "            raise ValueError(f\"Unsupported model class: {model_class.__name__}\")\n",
        "\n",
        "        full_pipeline = Pipeline([\n",
        "            ('preprocessor', preprocessor),\n",
        "            ('model', model)\n",
        "        ])\n",
        "\n",
        "        full_pipeline.fit(X_train, y_train)\n",
        "\n",
        "        y_pred = full_pipeline.predict(X_test)\n",
        "        rmse = np.sqrt(mean_squared_error(y_test, y_pred))\n",
        "\n",
        "        return rmse\n",
        "\n",
        "    study = optuna.create_study(direction='minimize')\n",
        "    study.optimize(objective, n_trials=10)\n",
        "\n",
        "    best_params = study.best_params\n",
        "    print(\"Optuna - Best parameters found:\", best_params)\n",
        "\n",
        "    # Create a new model with the best parameters\n",
        "    if model_class.__name__ == \"RandomForestRegressor\":\n",
        "        best_model = model_class(\n",
        "            n_estimators=best_params['n_estimators'],\n",
        "            max_depth=best_params['max_depth'],\n",
        "            min_samples_split=best_params['min_samples_split'],\n",
        "            random_state=42\n",
        "        )\n",
        "    elif model_class.__name__ == \"DecisionTreeRegressor\":\n",
        "        best_model = model_class(\n",
        "            max_depth=best_params['max_depth'],\n",
        "            min_samples_split=best_params['min_samples_split'],\n",
        "            random_state=42\n",
        "        )\n",
        "\n",
        "    # Build a new pipeline with the best model\n",
        "    full_pipeline = Pipeline([\n",
        "        ('preprocessor', preprocessor),\n",
        "        ('model', best_model)\n",
        "    ])\n",
        "    full_pipeline.fit(X_train, y_train)\n",
        "\n",
        "    y_pred = full_pipeline.predict(X_test)\n",
        "    test_rmse = np.sqrt(mean_squared_error(y_test, y_pred))\n",
        "    test_r2 = r2_score(y_test, y_pred)\n",
        "\n",
        "    print(f'Optuna - RMSE on test set: {test_rmse}')\n",
        "    print(f'Optuna - R2 on test set: {test_r2}')\n",
        "\n",
        "    return best_model, best_params, full_pipeline\n",
        "\n",
        "\n",
        "def plot_model_evaluation(y_test, y_pred, X_train, full_pipeline, test_rmse, test_r2):\n",
        "\n",
        "    # 1. Gráfico de \"Actual vs Predicted\"\n",
        "    plt.figure(figsize=(8, 6))\n",
        "    plt.scatter(y_test, y_pred, alpha=0.6)\n",
        "    plt.plot([min(y_test), max(y_test)], [min(y_test), max(y_test)], color='red', lw=2, ls='--')\n",
        "    plt.title('Actual vs Predicted')\n",
        "    plt.xlabel('Actual Life Expectancy')\n",
        "    plt.ylabel('Predicted Life Expectancy')\n",
        "    plt.show()\n",
        "\n",
        "    # 2. Gráfico de \"Residuals\"\n",
        "    residuals = y_test - y_pred\n",
        "    plt.figure(figsize=(8, 6))\n",
        "    plt.scatter(y_pred, residuals, alpha=0.6)\n",
        "    plt.hlines(y=0, xmin=min(y_pred), xmax=max(y_pred), color='red', lw=2, ls='--')\n",
        "    plt.title('Residuals Plot')\n",
        "    plt.xlabel('Predicted Life Expectancy')\n",
        "    plt.ylabel('Residuals (Actual - Predicted)')\n",
        "    plt.show()\n",
        "\n",
        "    # 3. Gráfico de \"Feature Importance\"\n",
        "    ohe = full_pipeline.named_steps['preprocessor'].named_transformers_['cat'].named_steps['onehot_encoder']\n",
        "    ohe_feature_names = ohe.get_feature_names_out(X_train.select_dtypes(include=['object']).columns)\n",
        "\n",
        "    numerical_cols = X_train.select_dtypes(exclude=['object']).columns\n",
        "    all_feature_names = np.concatenate([numerical_cols, ohe_feature_names])\n",
        "\n",
        "    importances = full_pipeline.named_steps['model'].feature_importances_\n",
        "    indices = np.argsort(importances)\n",
        "\n",
        "    # 4. Plot de importância das features com nomes corretos\n",
        "    plt.figure(figsize=(10, 6))\n",
        "    plt.barh(all_feature_names[indices], importances[indices])\n",
        "    plt.title('Feature Importance')\n",
        "    plt.xlabel('Importance')\n",
        "    plt.ylabel('Feature')\n",
        "    plt.show()\n",
        "\n",
        "    # 5. Gráfico de métricas de desempenho do modelo (RMSE e R²)\n",
        "    metrics = {'RMSE': test_rmse, 'R²': test_r2}\n",
        "    plt.figure(figsize=(6, 4))\n",
        "    plt.bar(metrics.keys(), metrics.values(), color=['royalblue', 'orange'])\n",
        "    plt.title('Model Performance Metrics')\n",
        "    plt.ylabel('Score')\n",
        "    plt.show()"
      ]
    },
    {
      "cell_type": "markdown",
      "id": "3eb42e4f",
      "metadata": {
        "id": "3eb42e4f"
      },
      "source": [
        "## Random Forest Regressor"
      ]
    },
    {
      "cell_type": "markdown",
      "id": "65988e77",
      "metadata": {
        "id": "65988e77"
      },
      "source": [
        "### Optimizing"
      ]
    },
    {
      "cell_type": "markdown",
      "id": "19b58335",
      "metadata": {
        "id": "19b58335"
      },
      "source": [
        "#### Grid Search"
      ]
    },
    {
      "cell_type": "code",
      "execution_count": null,
      "id": "66cf436a",
      "metadata": {
        "id": "66cf436a"
      },
      "outputs": [],
      "source": [
        "best_model_RF_grid, best_params_grid, full_pipeline_grid = grid_search_optimization(X_train, y_train, X_test, y_test, preprocessor, RandomForestRegressor)"
      ]
    },
    {
      "cell_type": "code",
      "execution_count": null,
      "id": "bf245aaf",
      "metadata": {
        "id": "bf245aaf"
      },
      "outputs": [],
      "source": [
        "y_pred_grid = best_model_RF_grid.predict(X_test)\n",
        "\n",
        "test_rmse_grid = np.sqrt(mean_squared_error(y_test, y_pred_grid))\n",
        "test_r2_grid = r2_score(y_test, y_pred_grid)"
      ]
    },
    {
      "cell_type": "markdown",
      "id": "e667b108",
      "metadata": {
        "id": "e667b108"
      },
      "source": [
        "##### Interpretação"
      ]
    },
    {
      "cell_type": "code",
      "execution_count": null,
      "id": "ad07c98b",
      "metadata": {
        "id": "ad07c98b"
      },
      "outputs": [],
      "source": [
        "print(f\"Final RMSE on test set: {test_rmse_grid}\")\n",
        "print(f\"Final R² on test set: {test_r2_grid}\")\n",
        "print(f\"Best hyperparameters: {best_params_grid}\")\n",
        "\n",
        "model = best_model_RF_grid.named_steps['model']\n",
        "\n",
        "importances = model.feature_importances_\n",
        "\n",
        "indices = np.argsort(importances)[::-1]\n",
        "\n",
        "for i in range(10):\n",
        "    print(f'{X_train.columns[indices[i]]}: {importances[indices[i]]:.4f}')"
      ]
    },
    {
      "cell_type": "markdown",
      "id": "665bbf91",
      "metadata": {
        "id": "665bbf91"
      },
      "source": [
        "##### Plot"
      ]
    },
    {
      "cell_type": "code",
      "execution_count": null,
      "id": "624be7fc",
      "metadata": {
        "id": "624be7fc"
      },
      "outputs": [],
      "source": [
        "#plot_model_evaluation(y_test, y_pred_grid, X_train, best_model_grid, test_rmse_grid, test_r2_grid)"
      ]
    },
    {
      "cell_type": "markdown",
      "id": "c50ac45e",
      "metadata": {
        "id": "c50ac45e"
      },
      "source": [
        "#### Randomized Search"
      ]
    },
    {
      "cell_type": "code",
      "execution_count": null,
      "id": "a2a8a97e",
      "metadata": {
        "id": "a2a8a97e"
      },
      "outputs": [],
      "source": [
        "best_model_RF_random, best_params_random, full_pipeline_random = randomized_search_optimization(X_train, y_train, X_test, y_test, preprocessor, RandomForestRegressor)"
      ]
    },
    {
      "cell_type": "code",
      "execution_count": null,
      "id": "f99cbda9",
      "metadata": {
        "id": "f99cbda9"
      },
      "outputs": [],
      "source": [
        "y_pred_random = best_model_RF_random.predict(X_test)\n",
        "\n",
        "test_rmse_random = np.sqrt(mean_squared_error(y_test, y_pred_random))\n",
        "test_r2_random = r2_score(y_test, y_pred_random)"
      ]
    },
    {
      "cell_type": "code",
      "execution_count": null,
      "id": "a2dc369d",
      "metadata": {
        "id": "a2dc369d"
      },
      "outputs": [],
      "source": [
        "plot_model_evaluation(y_test, y_pred_random, X_train, best_model_RF_random, test_rmse_random, test_r2_random)"
      ]
    },
    {
      "cell_type": "markdown",
      "id": "5800a89d",
      "metadata": {
        "id": "5800a89d"
      },
      "source": [
        "#### Optuna"
      ]
    },
    {
      "cell_type": "code",
      "execution_count": null,
      "id": "34d4400e",
      "metadata": {
        "id": "34d4400e"
      },
      "outputs": [],
      "source": [
        "# best_model_RF_optuna, best_params_optuna, full_pipeline_optuna = optuna_optimization(X_train, y_train, X_test, y_test, preprocessor, RandomForestRegressor)"
      ]
    },
    {
      "cell_type": "code",
      "execution_count": null,
      "id": "040b8c13",
      "metadata": {
        "id": "040b8c13"
      },
      "outputs": [],
      "source": [
        "# X_test_preprocessed = preprocessor.transform(X_test)\n",
        "# y_pred_optuna = best_model_RF_optuna.predict(X_test_preprocessed)\n",
        "\n",
        "# test_rmse_optuna = np.sqrt(mean_squared_error(y_test, y_pred_optuna))\n",
        "# test_r2_optuna = r2_score(y_test, y_pred_optuna)"
      ]
    },
    {
      "cell_type": "code",
      "execution_count": null,
      "id": "7f739490",
      "metadata": {
        "id": "7f739490"
      },
      "outputs": [],
      "source": [
        "# plot_model_evaluation(y_test, y_pred_optuna, X_train, full_pipeline_optuna, test_rmse_optuna, test_r2_optuna)"
      ]
    },
    {
      "cell_type": "markdown",
      "id": "4ad718d4",
      "metadata": {
        "id": "4ad718d4"
      },
      "source": [
        "## Decision Tree Regressor"
      ]
    },
    {
      "cell_type": "markdown",
      "id": "daa22eed",
      "metadata": {
        "id": "daa22eed"
      },
      "source": [
        "### Optimizing"
      ]
    },
    {
      "cell_type": "markdown",
      "id": "d7f5af63",
      "metadata": {
        "id": "d7f5af63"
      },
      "source": [
        "#### Grid Search"
      ]
    },
    {
      "cell_type": "code",
      "execution_count": null,
      "id": "42ae62db",
      "metadata": {
        "id": "42ae62db"
      },
      "outputs": [],
      "source": [
        "best_model_DT_grid, best_params_grid, full_pipeline_grid = grid_search_optimization(X_train, y_train, X_test, y_test, preprocessor, DecisionTreeRegressor)"
      ]
    },
    {
      "cell_type": "code",
      "execution_count": null,
      "id": "b1816c44",
      "metadata": {
        "id": "b1816c44"
      },
      "outputs": [],
      "source": [
        "y_pred_grid = best_model_RF_grid.predict(X_test)\n",
        "\n",
        "test_rmse_grid = np.sqrt(mean_squared_error(y_test, y_pred_grid))\n",
        "test_r2_grid = r2_score(y_test, y_pred_grid)"
      ]
    },
    {
      "cell_type": "code",
      "execution_count": null,
      "id": "8ba8628a",
      "metadata": {
        "id": "8ba8628a"
      },
      "outputs": [],
      "source": [
        "plot_model_evaluation(y_test, y_pred_grid, X_train, best_model_DT_grid, test_rmse_grid, test_r2_grid)"
      ]
    },
    {
      "cell_type": "markdown",
      "id": "3684b182",
      "metadata": {
        "id": "3684b182"
      },
      "source": [
        "#### Randomized Search"
      ]
    },
    {
      "cell_type": "code",
      "execution_count": null,
      "id": "5f40ce85",
      "metadata": {
        "id": "5f40ce85"
      },
      "outputs": [],
      "source": [
        "best_model_DT_random, best_params_random, full_pipeline_random = randomized_search_optimization(X_train, y_train, X_test, y_test, preprocessor, DecisionTreeRegressor)"
      ]
    },
    {
      "cell_type": "code",
      "execution_count": null,
      "id": "68232b5f",
      "metadata": {
        "id": "68232b5f"
      },
      "outputs": [],
      "source": [
        "y_pred_random = best_model_RF_random.predict(X_test)\n",
        "\n",
        "test_rmse_random = np.sqrt(mean_squared_error(y_test, y_pred_random))\n",
        "test_r2_random = r2_score(y_test, y_pred_random)"
      ]
    },
    {
      "cell_type": "code",
      "execution_count": null,
      "id": "866030f9",
      "metadata": {
        "id": "866030f9"
      },
      "outputs": [],
      "source": [
        "plot_model_evaluation(y_test, y_pred_random, X_train, best_model_DT_random, test_rmse_random, test_r2_random)"
      ]
    },
    {
      "cell_type": "code",
      "execution_count": null,
      "id": "4f16b0c3-787e-4286-b66f-637bde095b70",
      "metadata": {
        "id": "4f16b0c3-787e-4286-b66f-637bde095b70"
      },
      "outputs": [],
      "source": []
    },
    {
      "cell_type": "code",
      "execution_count": null,
      "id": "d5e0b38f",
      "metadata": {
        "id": "d5e0b38f"
      },
      "outputs": [],
      "source": [
        "# best_model_DT_optuna, best_params_optuna, full_pipeline_optuna = optuna_optimization(X_train, y_train, X_test, y_test, preprocessor, DecisionTreeRegressor)"
      ]
    },
    {
      "cell_type": "code",
      "execution_count": null,
      "id": "f1f9e43b",
      "metadata": {
        "id": "f1f9e43b"
      },
      "outputs": [],
      "source": [
        "# X_test_preprocessed = preprocessor.transform(X_test)\n",
        "# y_pred_optuna = best_model_DT_optuna.predict(X_test_preprocessed)\n",
        "\n",
        "# test_rmse_optuna = np.sqrt(mean_squared_error(y_test, y_pred_optuna))\n",
        "# test_r2_optuna = r2_score(y_test, y_pred_optuna)"
      ]
    },
    {
      "cell_type": "code",
      "execution_count": null,
      "id": "cb065340",
      "metadata": {
        "id": "cb065340"
      },
      "outputs": [],
      "source": [
        "# plot_model_evaluation(y_test, y_pred_optuna, X_train, full_pipeline_optuna, test_rmse_optuna, test_r2_optuna)"
      ]
    },
    {
      "cell_type": "markdown",
      "id": "a2abf971-280c-485d-8665-db2b7d2201e9",
      "metadata": {
        "jp-MarkdownHeadingCollapsed": true,
        "id": "a2abf971-280c-485d-8665-db2b7d2201e9"
      },
      "source": [
        "# Spot-checking"
      ]
    },
    {
      "cell_type": "code",
      "execution_count": null,
      "id": "42922be4-c4e7-4948-8de1-d22e97b00543",
      "metadata": {
        "id": "42922be4-c4e7-4948-8de1-d22e97b00543"
      },
      "outputs": [],
      "source": [
        "models = [\n",
        "    SVR(),\n",
        "    RandomForestRegressor(random_state=42),\n",
        "    LinearRegression(),\n",
        "    DecisionTreeRegressor(random_state=42),\n",
        "]\n",
        "\n",
        "\n",
        "results = {}\n",
        "scoring = {\n",
        "    'RMSE': 'neg_root_mean_squared_error',  # Vamos calcular RMSE a partir do MSE\n",
        "    'R2': 'r2'\n",
        "}\n",
        "\n",
        "for model in models:\n",
        "    model_name = model.__class__.__name__\n",
        "\n",
        "    # Cross-validation\n",
        "    cv_results = cross_validate(\n",
        "        model,\n",
        "        X_train_preprocessed,\n",
        "        y_train,\n",
        "        cv=10,\n",
        "        scoring=scoring,\n",
        "        return_train_score=True,\n",
        "        n_jobs=-1\n",
        "    )\n",
        "    cv_results['test_RMSE'] = -cv_results['test_RMSE']\n",
        "\n",
        "    # Treinar modelo final\n",
        "    model.fit(X_train_preprocessed, y_train)\n",
        "\n",
        "    # Predições no conjunto de teste\n",
        "    y_pred = model.predict(X_test_preprocessed)\n",
        "\n",
        "    # Calcular apenas RMSE e R^2 para o conjunto de teste\n",
        "    test_rmse = np.sqrt(mean_squared_error(y_test, y_pred))\n",
        "    test_r2 = r2_score(y_test, y_pred)\n",
        "\n",
        "    results[model_name] = {\n",
        "        # Métricas de CV (média e desvio padrão)\n",
        "        'cv_rmse_mean': cv_results['test_RMSE'].mean(),\n",
        "        'cv_rmse_std': cv_results['test_RMSE'].std(),\n",
        "        'cv_rmse': cv_results['test_RMSE'],\n",
        "        'cv_r2_mean': cv_results['test_R2'].mean(),\n",
        "        'cv_r2_std': cv_results['test_R2'].std(),\n",
        "        'cv_r2': cv_results['test_R2'],\n",
        "\n",
        "        # Métricas no conjunto de teste\n",
        "        'test_rmse': test_rmse,\n",
        "        'test_r2': test_r2,\n",
        "\n",
        "        # Predições e valores reais\n",
        "        'y_test': y_test,\n",
        "        'y_pred': y_pred,\n",
        "\n",
        "        # Modelo treinado\n",
        "        'model': model\n",
        "    }"
      ]
    },
    {
      "cell_type": "code",
      "execution_count": null,
      "id": "04318f17-4eb2-40e2-8def-d216ae7e19c9",
      "metadata": {
        "id": "04318f17-4eb2-40e2-8def-d216ae7e19c9"
      },
      "outputs": [],
      "source": [
        "df_results = pd.DataFrame(columns=['Modelo', 'CV RMSE', 'CV R²', 'Teste RMSE', 'Teste R²'])\n",
        "\n",
        "for model_name, metrics in results.items():\n",
        "    df_results = pd.concat([df_results, pd.DataFrame({\n",
        "        'Modelo': [model_name],\n",
        "        'CV RMSE': [f\"{metrics['cv_rmse_mean']:.4f} ± {metrics['cv_rmse_std']:.4f}\"],\n",
        "        'CV R²': [f\"{metrics['cv_r2_mean']:.4f} ± {metrics['cv_r2_std']:.4f}\"],\n",
        "        'Teste RMSE': [f\"{metrics['test_rmse']:.4f}\"],\n",
        "        'Teste R²': [f\"{metrics['test_r2']:.4f}\"]\n",
        "    })], ignore_index=True)\n",
        "\n",
        "df_results"
      ]
    },
    {
      "cell_type": "code",
      "execution_count": null,
      "id": "4b33eede-6bfa-4228-afb2-2f3dfbf01031",
      "metadata": {
        "id": "4b33eede-6bfa-4228-afb2-2f3dfbf01031"
      },
      "outputs": [],
      "source": [
        "fig, (ax1, ax2) = plt.subplots(1, 2, figsize=(12, 5), sharey=False)\n",
        "\n",
        "models = list(results.keys())\n",
        "r2_cv = [results[m]['cv_r2_mean'] for m in models]\n",
        "r2_cv_std = [results[m]['cv_r2_std'] for m in models]\n",
        "r2_test = [results[m]['test_r2'] for m in models]\n",
        "rmse_cv = [results[m]['cv_rmse_mean'] for m in models]\n",
        "rmse_cv_std = [results[m]['cv_rmse_std'] for m in models]\n",
        "rmse_test = [results[m]['test_rmse'] for m in models]\n",
        "\n",
        "# Plot 1: R^2 Score\n",
        "x = np.arange(len(models))\n",
        "width = 0.35\n",
        "\n",
        "bar1_r2 = ax1.bar(x - width/2, r2_cv, width, label='Cross Validation',\n",
        "                  yerr=r2_cv_std, capsize=5, ecolor='black')\n",
        "bar2_r2 = ax1.bar(x + width/2, r2_test, width, label='Test')\n",
        "ax1.set_title('R² Score by Model', fontsize=14, fontweight='bold')\n",
        "ax1.set_xticks(x)\n",
        "ax1.set_xticklabels(models, rotation=45, fontsize=10)\n",
        "ax1.set_ylabel(\"R² Score\", fontsize=12)\n",
        "ax1.grid(True, alpha=0.3)\n",
        "\n",
        "# Plot 2: RMSE\n",
        "bar1_rmse = ax2.bar(x - width/2, rmse_cv, width, label='Cross Validation',\n",
        "                    yerr=rmse_cv_std, capsize=5, ecolor='black')\n",
        "bar2_rmse = ax2.bar(x + width/2, rmse_test, width, label='Test')\n",
        "ax2.set_title('RMSE by Model', fontsize=14, fontweight='bold')\n",
        "ax2.set_xticks(x)\n",
        "ax2.set_xticklabels(models, rotation=45, fontsize=10)\n",
        "ax2.set_ylabel(\"RMSE\", fontsize=12)\n",
        "ax2.grid(True, alpha=0.3)\n",
        "\n",
        "# Criar uma única legenda compartilhada\n",
        "handles, labels = ax1.get_legend_handles_labels()\n",
        "fig.legend(handles, labels,\n",
        "           title=\"Legenda\",\n",
        "           title_fontsize=12,\n",
        "           fontsize=10,\n",
        "           loc='upper center',\n",
        "           bbox_to_anchor=(0.5, 1.05),\n",
        "           ncol=len(labels))\n",
        "\n",
        "plt.tight_layout()\n",
        "plt.subplots_adjust(top=0.85)"
      ]
    },
    {
      "cell_type": "code",
      "execution_count": null,
      "id": "b150aa1a-ce0a-4d58-8160-9067b7eb1c7f",
      "metadata": {
        "id": "b150aa1a-ce0a-4d58-8160-9067b7eb1c7f"
      },
      "outputs": [],
      "source": [
        "fig, (ax1, ax2) = plt.subplots(1, 2, figsize=(14, 6), sharey=False)\n",
        "\n",
        "# Gráfico de R^2\n",
        "for model_name, result in results.items():\n",
        "    ax1.plot(np.arange(len(result['cv_r2'])),\n",
        "             result['cv_r2'] * 100,\n",
        "             marker=\"o\",\n",
        "             label=model_name)\n",
        "ax1.set_title(\"Cross Validation R² Scores by Model\", fontsize=16, fontweight=\"bold\")\n",
        "ax1.set_xlabel(\"Fold\", fontsize=12)\n",
        "ax1.set_ylabel(\"R² Score (%)\", fontsize=12)\n",
        "ax1.tick_params(axis=\"x\", labelsize=10)\n",
        "ax1.tick_params(axis=\"y\", labelsize=10)\n",
        "\n",
        "# Gráfico de RMSE\n",
        "for model_name, result in results.items():\n",
        "    ax2.plot(np.arange(len(result['cv_rmse'])),\n",
        "             result['cv_rmse'],\n",
        "             marker=\"s\",\n",
        "             linestyle=\"--\",\n",
        "             label=model_name)\n",
        "ax2.set_title(\"Cross Validation RMSE by Model\", fontsize=16, fontweight=\"bold\")\n",
        "ax2.set_xlabel(\"Fold\", fontsize=12)\n",
        "ax2.tick_params(axis=\"x\", labelsize=10)\n",
        "ax2.tick_params(axis=\"y\", labelsize=10)\n",
        "\n",
        "# Adicionar uma única legenda compartilhada\n",
        "handles, labels = ax1.get_legend_handles_labels()\n",
        "fig.legend(handles, labels,\n",
        "           title=\"Models\",\n",
        "           title_fontsize=12,\n",
        "           fontsize=10,\n",
        "           loc='upper center',\n",
        "           bbox_to_anchor=(0.5, 1.05),\n",
        "           ncol=len(labels))\n",
        "\n",
        "plt.tight_layout()\n",
        "plt.subplots_adjust(top=0.85)"
      ]
    },
    {
      "cell_type": "markdown",
      "id": "31a16edc-dd38-4e16-a8fa-72a7988f3b43",
      "metadata": {
        "jp-MarkdownHeadingCollapsed": true,
        "id": "31a16edc-dd38-4e16-a8fa-72a7988f3b43"
      },
      "source": [
        "# Avaliação de Desempenho"
      ]
    },
    {
      "cell_type": "code",
      "execution_count": null,
      "id": "8a21632a",
      "metadata": {
        "id": "8a21632a"
      },
      "outputs": [],
      "source": [
        "models = [best_model_RF_grid, best_model_RF_random, best_model_DT_random, best_model_DT_grid]\n",
        "\n",
        "results = {}\n",
        "scoring = {'RMSE': 'neg_root_mean_squared_error', 'R2': 'r2'}\n",
        "\n",
        "for model in models:\n",
        "    if isinstance(model, Pipeline):\n",
        "        model_name = model.named_steps['model'].__class__.__name__\n",
        "    else:\n",
        "        model_name = model.__class__.__name__\n",
        "\n",
        "    cv_results = cross_validate(\n",
        "        model,\n",
        "        X_train,\n",
        "        y_train,\n",
        "        cv=10,\n",
        "        scoring=scoring,\n",
        "        return_train_score=True,\n",
        "        n_jobs=-1\n",
        "    )\n",
        "    cv_results['test_RMSE'] = -cv_results['test_RMSE']\n",
        "\n",
        "    y_pred = model.predict(X_test)\n",
        "    test_rmse = np.sqrt(mean_squared_error(y_test, y_pred))\n",
        "    test_r2 = r2_score(y_test, y_pred)\n",
        "\n",
        "    results[model_name] = {\n",
        "        'cv_rmse_mean': cv_results['test_RMSE'].mean(),\n",
        "        'cv_rmse_std': cv_results['test_RMSE'].std(),\n",
        "        'cv_r2_mean': cv_results['test_R2'].mean(),\n",
        "        'cv_r2_std': cv_results['test_R2'].std(),\n",
        "        'cv_r2': cv_results['test_R2'],\n",
        "        'cv_rmse': cv_results['test_RMSE'],\n",
        "        'test_rmse': test_rmse,\n",
        "        'test_r2': test_r2,\n",
        "        'y_test': y_test,\n",
        "        'y_pred': y_pred,\n",
        "        'model': model\n",
        "    }"
      ]
    },
    {
      "cell_type": "code",
      "execution_count": null,
      "id": "e8bd1d6a-774c-4393-8017-4037c2da59b8",
      "metadata": {
        "id": "e8bd1d6a-774c-4393-8017-4037c2da59b8"
      },
      "outputs": [],
      "source": [
        "df_results = pd.DataFrame(columns=['Modelo', 'CV RMSE', 'CV R²', 'Teste RMSE', 'Teste R²'])\n",
        "\n",
        "for model_name, metrics in results.items():\n",
        "    df_results = pd.concat([df_results, pd.DataFrame({\n",
        "        'Modelo': [model_name],\n",
        "        'CV RMSE': [f\"{metrics['cv_rmse_mean']:.4f} ± {metrics['cv_rmse_std']:.4f}\"],\n",
        "        'CV R²': [f\"{metrics['cv_r2_mean']:.4f} ± {metrics['cv_r2_std']:.4f}\"],\n",
        "        'Teste RMSE': [f\"{metrics['test_rmse']:.4f}\"],\n",
        "        'Teste R²': [f\"{metrics['test_r2']:.4f}\"]\n",
        "    })], ignore_index=True)"
      ]
    },
    {
      "cell_type": "code",
      "execution_count": null,
      "id": "6d44065e-63a1-4577-96af-5b7b47051ad0",
      "metadata": {
        "id": "6d44065e-63a1-4577-96af-5b7b47051ad0"
      },
      "outputs": [],
      "source": [
        "df_results"
      ]
    },
    {
      "cell_type": "code",
      "execution_count": null,
      "id": "9e472a56-b959-4ad0-a79c-37f716b51d46",
      "metadata": {
        "scrolled": true,
        "id": "9e472a56-b959-4ad0-a79c-37f716b51d46"
      },
      "outputs": [],
      "source": [
        "fig, (ax1, ax2) = plt.subplots(1, 2, figsize=(12, 5), sharey=False)\n",
        "\n",
        "models = list(results.keys())\n",
        "r2_cv = [results[m]['cv_r2_mean'] for m in models]\n",
        "r2_cv_std = [results[m]['cv_r2_std'] for m in models]\n",
        "r2_test = [results[m]['test_r2'] for m in models]\n",
        "rmse_cv = [results[m]['cv_rmse_mean'] for m in models]\n",
        "rmse_cv_std = [results[m]['cv_rmse_std'] for m in models]\n",
        "rmse_test = [results[m]['test_rmse'] for m in models]\n",
        "\n",
        "# Plot 1: R^2 Score\n",
        "x = np.arange(len(models))\n",
        "width = 0.35\n",
        "\n",
        "bar1_r2 = ax1.bar(x - width/2, r2_cv, width, label='Cross Validation',\n",
        "                  yerr=r2_cv_std, capsize=5, ecolor='black')\n",
        "bar2_r2 = ax1.bar(x + width/2, r2_test, width, label='Test')\n",
        "ax1.set_title('R² Score by Model', fontsize=14, fontweight='bold')\n",
        "ax1.set_xticks(x)\n",
        "ax1.set_xticklabels(models, rotation=45, fontsize=10)\n",
        "ax1.set_ylabel(\"R² Score\", fontsize=12)\n",
        "ax1.grid(True, alpha=0.3)\n",
        "\n",
        "# Plot 2: RMSE\n",
        "bar1_rmse = ax2.bar(x - width/2, rmse_cv, width, label='Cross Validation',\n",
        "                    yerr=rmse_cv_std, capsize=5, ecolor='black')\n",
        "bar2_rmse = ax2.bar(x + width/2, rmse_test, width, label='Test')\n",
        "ax2.set_title('RMSE by Model', fontsize=14, fontweight='bold')\n",
        "ax2.set_xticks(x)\n",
        "ax2.set_xticklabels(models, rotation=45, fontsize=10)\n",
        "ax2.set_ylabel(\"RMSE\", fontsize=12)\n",
        "ax2.grid(True, alpha=0.3)\n",
        "\n",
        "# Criar uma única legenda compartilhada\n",
        "handles, labels = ax1.get_legend_handles_labels()\n",
        "fig.legend(handles, labels,\n",
        "           title=\"Legenda\",\n",
        "           title_fontsize=12,\n",
        "           fontsize=10,\n",
        "           loc='upper center',\n",
        "           bbox_to_anchor=(0.5, 1.05),\n",
        "           ncol=len(labels))\n",
        "\n",
        "plt.tight_layout()\n",
        "plt.subplots_adjust(top=0.85)"
      ]
    },
    {
      "cell_type": "code",
      "execution_count": null,
      "id": "3907f9fe-b58c-4760-b1b3-fe25375e9ff4",
      "metadata": {
        "id": "3907f9fe-b58c-4760-b1b3-fe25375e9ff4"
      },
      "outputs": [],
      "source": [
        "fig, (ax1, ax2) = plt.subplots(1, 2, figsize=(14, 6), sharey=False)\n",
        "\n",
        "# Gráfico de R^2\n",
        "for model_name, result in results.items():\n",
        "    ax1.plot(np.arange(len(result['cv_r2'])),\n",
        "             result['cv_r2'] * 100,\n",
        "             marker=\"o\",\n",
        "             label=model_name)\n",
        "ax1.set_title(\"Cross Validation R² Scores by Model\", fontsize=16, fontweight=\"bold\")\n",
        "ax1.set_xlabel(\"Fold\", fontsize=12)\n",
        "ax1.set_ylabel(\"R² Score (%)\", fontsize=12)\n",
        "ax1.tick_params(axis=\"x\", labelsize=10)\n",
        "ax1.tick_params(axis=\"y\", labelsize=10)\n",
        "\n",
        "# Gráfico de RMSE\n",
        "for model_name, result in results.items():\n",
        "    ax2.plot(np.arange(len(result['cv_rmse'])),\n",
        "             result['cv_rmse'],\n",
        "             marker=\"s\",\n",
        "             linestyle=\"--\",\n",
        "             label=model_name)\n",
        "ax2.set_title(\"Cross Validation RMSE by Model\", fontsize=16, fontweight=\"bold\")\n",
        "ax2.set_xlabel(\"Fold\", fontsize=12)\n",
        "ax2.tick_params(axis=\"x\", labelsize=10)\n",
        "ax2.tick_params(axis=\"y\", labelsize=10)\n",
        "\n",
        "# Adicionar uma única legenda compartilhada\n",
        "handles, labels = ax1.get_legend_handles_labels()\n",
        "fig.legend(handles, labels,\n",
        "           title=\"Models\",\n",
        "           title_fontsize=12,\n",
        "           fontsize=10,\n",
        "           loc='upper center',\n",
        "           bbox_to_anchor=(0.5, 1.05),\n",
        "           ncol=len(labels))\n",
        "\n",
        "plt.tight_layout()\n",
        "plt.subplots_adjust(top=0.85)"
      ]
    },
    {
      "cell_type": "code",
      "execution_count": null,
      "id": "4ed7a3be-c37f-495c-8d96-46439c38c3e3",
      "metadata": {
        "id": "4ed7a3be-c37f-495c-8d96-46439c38c3e3"
      },
      "outputs": [],
      "source": [
        "num_models = len(results)\n",
        "cols = 2\n",
        "rows = math.ceil(num_models / cols)\n",
        "\n",
        "fig, axes = plt.subplots(rows, cols, figsize=(15, 5 * rows), sharey=True)\n",
        "axes = axes.flatten()\n",
        "\n",
        "for ax, (model_name, result) in zip(axes, results.items()):\n",
        "    y_test = result['y_test']\n",
        "    y_pred = result['y_pred']\n",
        "\n",
        "    ax.scatter(y_test, y_pred, alpha=0.6, edgecolor='k', label=\"Predictions\")\n",
        "    ax.plot([min(y_test), max(y_test)], [min(y_test), max(y_test)],\n",
        "            color='red', linestyle='--', label=\"y=x\", linewidth=1.5)\n",
        "\n",
        "    ax.set_title(model_name, fontsize=14, fontweight=\"bold\")\n",
        "    ax.set_xlabel(\"Target\", fontsize=12)\n",
        "    ax.set_ylabel(\"Predicted\", fontsize=12)\n",
        "    ax.grid(True, alpha=0.3)\n",
        "    ax.legend(fontsize=10)\n",
        "\n",
        "for i in range(len(results), len(axes)):\n",
        "    fig.delaxes(axes[i])\n",
        "\n",
        "plt.tight_layout()"
      ]
    },
    {
      "cell_type": "markdown",
      "id": "888eeb5e-0a06-4984-b7bd-965e8f15a34f",
      "metadata": {
        "id": "888eeb5e-0a06-4984-b7bd-965e8f15a34f"
      },
      "source": [
        "## Best Model"
      ]
    },
    {
      "cell_type": "code",
      "execution_count": null,
      "id": "61e50305-801d-49ba-822a-0c3f0eb518b6",
      "metadata": {
        "id": "61e50305-801d-49ba-822a-0c3f0eb518b6"
      },
      "outputs": [],
      "source": [
        "best_model = None\n",
        "best_metrics = None\n",
        "best_score = float('inf')\n",
        "\n",
        "for model_name, metrics in results.items():\n",
        "    # Quanto menor o RMSE e maior o R², melhor o modelo\n",
        "    # Usamos 1 - R² para ter uma métrica onde menor = melhor\n",
        "    score = metrics['cv_rmse_mean'] * (1 - metrics['cv_r2_mean'])\n",
        "\n",
        "    if score < best_score:\n",
        "        best_score = score\n",
        "        best_model = model_name\n",
        "        best_metrics = {\n",
        "            'CV RMSE (média)': round(metrics['cv_rmse_mean'], 4),\n",
        "            'CV R² (média)': round(metrics['cv_r2_mean'], 4),\n",
        "            'Test RMSE': round(metrics['test_rmse'], 4),\n",
        "            'Test R²': round(metrics['test_r2'], 4)\n",
        "        }"
      ]
    },
    {
      "cell_type": "code",
      "execution_count": null,
      "id": "46b4fc89-7daa-4796-b5f9-feaadb0300df",
      "metadata": {
        "id": "46b4fc89-7daa-4796-b5f9-feaadb0300df"
      },
      "outputs": [],
      "source": [
        "print(f\"Best Model: {best_model}\")\n",
        "print(\"\\nMetrics\")\n",
        "for metric, value in best_metrics.items():\n",
        "    print(f\"{metric}: {value}\")"
      ]
    },
    {
      "cell_type": "code",
      "execution_count": null,
      "id": "42a82a26-31ea-45b4-8e79-9412250790ac",
      "metadata": {
        "id": "42a82a26-31ea-45b4-8e79-9412250790ac"
      },
      "outputs": [],
      "source": [
        "plt.figure(figsize=(10, 6))\n",
        "\n",
        "errors = results[best_model]['y_test'] - results[best_model]['y_pred']\n",
        "\n",
        "sns.histplot(errors, kde=True)\n",
        "\n",
        "plt.axvline(x=0, color='red', linestyle='--', alpha=0.5)\n",
        "plt.title(f'{best_model} Error Distribution (Best Model)', fontsize=14, fontweight='bold')\n",
        "plt.xlabel('Error (Actual - Predicted)')\n",
        "plt.ylabel('Frequency')\n",
        "\n",
        "plt.text(0.95, 0.95,\n",
        "         f'Mean Error: {np.mean(errors):.2f}\\nStd Error: {np.std(errors):.2f}',\n",
        "         transform=plt.gca().transAxes,\n",
        "         verticalalignment='top',\n",
        "         horizontalalignment='right',\n",
        "         bbox=dict(boxstyle='round', facecolor='white', alpha=0.8))\n",
        "\n",
        "plt.grid(True, alpha=0.3)\n",
        "plt.tight_layout()\n",
        "plt.show()"
      ]
    },
    {
      "cell_type": "code",
      "execution_count": null,
      "id": "34c40901-6b40-4f6c-92f3-830feb0aaa7b",
      "metadata": {
        "id": "34c40901-6b40-4f6c-92f3-830feb0aaa7b"
      },
      "outputs": [],
      "source": []
    }
  ],
  "metadata": {
    "kernelspec": {
      "display_name": "Python 3 (ipykernel)",
      "language": "python",
      "name": "python3"
    },
    "language_info": {
      "codemirror_mode": {
        "name": "ipython",
        "version": 3
      },
      "file_extension": ".py",
      "mimetype": "text/x-python",
      "name": "python",
      "nbconvert_exporter": "python",
      "pygments_lexer": "ipython3",
      "version": "3.10.12"
    },
    "colab": {
      "provenance": []
    }
  },
  "nbformat": 4,
  "nbformat_minor": 5
}